{
 "cells": [
  {
   "cell_type": "code",
   "execution_count": 7,
   "metadata": {},
   "outputs": [
    {
     "name": "stdout",
     "output_type": "stream",
     "text": [
      "480\n"
     ]
    }
   ],
   "source": [
    "#Task 1.1 Q1 Write a Python Program to implement your own myreduce() function which works exactly like Python's built-in function reduce()\n",
    "def myreduce(any_func,sequence):\n",
    " result = sequence[0]\n",
    " for item in sequence[1:]:\n",
    "   result = any_func(result, item)\n",
    " return result\n",
    "\n",
    "def add(x1,x2):\n",
    "  return x1*x2\n",
    "\n",
    "print(myreduce(add,[1,24,4,5]))"
   ]
  },
  {
   "cell_type": "code",
   "execution_count": null,
   "metadata": {},
   "outputs": [],
   "source": []
  },
  {
   "cell_type": "code",
   "execution_count": 14,
   "metadata": {},
   "outputs": [],
   "source": [
    "#task 1.2 Q2 Write a Python program to implement your own myfilter() function which works exactly like Python's built-in function filter()\n",
    "def myfilter(anyfunc, sequence):\n",
    "\n",
    " # Initialize empty list\n",
    " result = []\n",
    " # iterate over sequence of items in sequence and apply filter function\n",
    " for item in sequence:\n",
    "  if anyfunc(item):\n",
    "   result.append(item)\n",
    "\n",
    " # return funal output\n",
    " return result"
   ]
  },
  {
   "cell_type": "code",
   "execution_count": 22,
   "metadata": {},
   "outputs": [],
   "source": [
    "def is_int(y):\n",
    "    if type(y) != int:\n",
    "        return False\n",
    "    else:\n",
    "        return True"
   ]
  },
  {
   "cell_type": "code",
   "execution_count": 30,
   "metadata": {},
   "outputs": [
    {
     "name": "stdout",
     "output_type": "stream",
     "text": [
      "[1, 2, 5]\n"
     ]
    }
   ],
   "source": [
    "print(myfilter(is_int,[1,2,5,'j','python']))"
   ]
  },
  {
   "cell_type": "code",
   "execution_count": null,
   "metadata": {},
   "outputs": [],
   "source": []
  },
  {
   "cell_type": "code",
   "execution_count": 45,
   "metadata": {},
   "outputs": [
    {
     "data": {
      "text/plain": [
       "['A', 'C', 'A', 'D', 'G', 'I', 'L', 'D']"
      ]
     },
     "execution_count": 45,
     "metadata": {},
     "output_type": "execute_result"
    }
   ],
   "source": [
    "#Task1 Q2 Write List comprehensions to produce the following Lists\n",
    "word = \"ACADGILD\"\n",
    "[letter for letter in word]"
   ]
  },
  {
   "cell_type": "code",
   "execution_count": 43,
   "metadata": {},
   "outputs": [
    {
     "data": {
      "text/plain": [
       "['x', 'xx', 'xxx', 'xxxx', 'y', 'yy', 'yyy', 'yyyy', 'z', 'zz', 'zzz', 'zzzz']"
      ]
     },
     "execution_count": 43,
     "metadata": {},
     "output_type": "execute_result"
    }
   ],
   "source": [
    "[letter*number for letter in ['x','y','z'] for number in range(1,5)]"
   ]
  },
  {
   "cell_type": "code",
   "execution_count": 44,
   "metadata": {},
   "outputs": [
    {
     "data": {
      "text/plain": [
       "['x', 'y', 'z', 'xx', 'yy', 'zz', 'xxx', 'yyy', 'zzz', 'xxxx', 'yyyy', 'zzzz']"
      ]
     },
     "execution_count": 44,
     "metadata": {},
     "output_type": "execute_result"
    }
   ],
   "source": [
    "[letter*number for number in range(1,5) for letter in ['x','y','z']]"
   ]
  },
  {
   "cell_type": "code",
   "execution_count": 47,
   "metadata": {},
   "outputs": [
    {
     "data": {
      "text/plain": [
       "[[2], [3], [4], [3], [4], [5], [4], [5], [6]]"
      ]
     },
     "execution_count": 47,
     "metadata": {},
     "output_type": "execute_result"
    }
   ],
   "source": [
    "my_list = [2,3,4]\n",
    "[ [i+number] for i in my_list for number in range(0,3)]"
   ]
  },
  {
   "cell_type": "code",
   "execution_count": 49,
   "metadata": {},
   "outputs": [
    {
     "data": {
      "text/plain": [
       "[[2, 3, 4, 5], [3, 4, 5, 6], [4, 5, 6, 7]]"
      ]
     },
     "execution_count": 49,
     "metadata": {},
     "output_type": "execute_result"
    }
   ],
   "source": [
    "my_list = [2,3,4,5]\n",
    "[ [i+number for i in my_list] for number in range(0,3)]"
   ]
  },
  {
   "cell_type": "code",
   "execution_count": 50,
   "metadata": {},
   "outputs": [
    {
     "data": {
      "text/plain": [
       "[(1, 1), (2, 1), (3, 1), (1, 2), (2, 2), (3, 2), (1, 3), (2, 3), (3, 3)]"
      ]
     },
     "execution_count": 50,
     "metadata": {},
     "output_type": "execute_result"
    }
   ],
   "source": [
    "my_list=[1,2,3]\n",
    "[ (b,a) for a in my_list for b in my_list]"
   ]
  },
  {
   "cell_type": "code",
   "execution_count": 62,
   "metadata": {},
   "outputs": [
    {
     "data": {
      "text/plain": [
       "[5, 6, 9]"
      ]
     },
     "execution_count": 62,
     "metadata": {},
     "output_type": "execute_result"
    }
   ],
   "source": [
    "words=['asads','hhhhhh','mmmmmmmmm']\n",
    "count = 0\n",
    "for i in words:\n",
    "    "
   ]
  },
  {
   "cell_type": "code",
   "execution_count": null,
   "metadata": {},
   "outputs": [],
   "source": []
  },
  {
   "cell_type": "code",
   "execution_count": 64,
   "metadata": {},
   "outputs": [
    {
     "name": "stdout",
     "output_type": "stream",
     "text": [
      "Please input a List of words to evaluate: hgagha jajajaujaj uauauauauauua\n",
      "The longest word is uauauauauauua with lenght 13\n"
     ]
    }
   ],
   "source": [
    "#Task 1 Q3 Implement a function longestWord() that takes a list of words and returns the longest one\n",
    "def longestword():\n",
    "    my_input = input(\"Please input a List of words to evaluate: \")\n",
    "\n",
    "    longest = 0\n",
    "\n",
    "    for words in my_input.split():\n",
    "           if len(words) > longest:\n",
    "                  longest = len(words)\n",
    "    print (\"The longest word is\", words, \"with lenght\", longest)\n",
    "\n",
    "longestword()"
   ]
  },
  {
   "cell_type": "code",
   "execution_count": null,
   "metadata": {},
   "outputs": [],
   "source": []
  },
  {
   "cell_type": "code",
   "execution_count": 8,
   "metadata": {},
   "outputs": [
    {
     "name": "stdout",
     "output_type": "stream",
     "text": [
      "Enter the value of a = 3\n",
      "Enter the value of b = 4\n",
      "Enter the value of c = 5\n",
      "area : 6.0\n"
     ]
    }
   ],
   "source": [
    "#Task 2 Q 1.1 Write a Python Program(with class concepts) to find the area of the triangle using the below formula. area = (s*(s-a)*(s-b)*(s-c)) ** 0.5\n",
    "#  Function to take the length of the sides of triangle from user should be defined in the parent class and function to calculate the area should be defined in subclass.\n",
    "\n",
    "class Triangle:\n",
    "    def __init__(self,a,b,c):\n",
    "        self.a = float(a)\n",
    "        self.b = float(b)\n",
    "        self.c = float(c)\n",
    "    def area(self):\n",
    "        s=(self.a + self.b + self.c)/2\n",
    "        return((s*(s-self.a)*(s-self.b)*(s-self.c))**0.5)\n",
    "a=input(\"Enter the value of a = \")\n",
    "b=input(\"Enter the value of b = \")\n",
    "c=input(\"Enter the value of c = \")\n",
    "t = Triangle(a, b, c)\n",
    "print(\"area : {}\".format(t.area()))"
   ]
  },
  {
   "cell_type": "code",
   "execution_count": null,
   "metadata": {},
   "outputs": [],
   "source": []
  },
  {
   "cell_type": "code",
   "execution_count": 9,
   "metadata": {},
   "outputs": [
    {
     "name": "stdout",
     "output_type": "stream",
     "text": [
      "['definitely', 'DataScientist']\n"
     ]
    }
   ],
   "source": [
    "#Task 2 Q1.2 Write a function filter_long_words() that takes a list of words and an integer n and returns the list of words that are longer than n.\n",
    "\n",
    "def filter_long_words(n, str):  \n",
    "    words = []  \n",
    "    txt = str.split(\" \")  \n",
    "    for x in txt:  \n",
    "        if len(x) > n:  \n",
    "            words.append(x)  \n",
    "    return words   \n",
    "print(filter_long_words(6, \"I will definitely become good DataScientist\"))"
   ]
  },
  {
   "cell_type": "code",
   "execution_count": 18,
   "metadata": {},
   "outputs": [
    {
     "data": {
      "text/plain": [
       "[6, 5, 6]"
      ]
     },
     "execution_count": 18,
     "metadata": {},
     "output_type": "execute_result"
    }
   ],
   "source": [
    "#Task 2 Q2.1 Write a Python program using function concept that maps list of words into a list of integers representing the lengths of the corresponding words .\n",
    "#Hint: If a list [ ab,cde,erty] is passed on to the python function output should come as [2,3,4] Here 2,3 and 4 are the lengths of the words in the list.\n",
    "w = ['Akshay','Dilip','Nehete']\n",
    "[len(i) for i in w]"
   ]
  },
  {
   "cell_type": "code",
   "execution_count": 19,
   "metadata": {},
   "outputs": [
    {
     "name": "stdout",
     "output_type": "stream",
     "text": [
      "<map object at 0x00000215942C1888>\n"
     ]
    }
   ],
   "source": [
    "# OR\n",
    "\n",
    "words = ['aksh','Machine','Learning']\n",
    "def map_to_lengths_map(words):\n",
    "    return map(len, words)\n",
    "\n",
    "print(map_to_lengths_map(words))"
   ]
  },
  {
   "cell_type": "code",
   "execution_count": null,
   "metadata": {},
   "outputs": [],
   "source": []
  },
  {
   "cell_type": "code",
   "execution_count": 20,
   "metadata": {},
   "outputs": [
    {
     "name": "stdout",
     "output_type": "stream",
     "text": [
      "enter a characterk\n",
      "k is not a vowel\n"
     ]
    }
   ],
   "source": [
    "#Task 2 Q2.2\n",
    "def check_vowel(char):\n",
    "    check=\"aeiou\"\n",
    "    if char in check:\n",
    "        print(char ,\"is vowel\")\n",
    "    else:\n",
    "        print(char ,\"is not a vowel\")\n",
    "\n",
    "char=input(\"enter a character\")\n",
    "check_vowel(char.lower())"
   ]
  },
  {
   "cell_type": "code",
   "execution_count": null,
   "metadata": {},
   "outputs": [],
   "source": []
  },
  {
   "cell_type": "code",
   "execution_count": null,
   "metadata": {},
   "outputs": [],
   "source": []
  },
  {
   "cell_type": "code",
   "execution_count": null,
   "metadata": {},
   "outputs": [],
   "source": []
  }
 ],
 "metadata": {
  "kernelspec": {
   "display_name": "Python 3",
   "language": "python",
   "name": "python3"
  },
  "language_info": {
   "codemirror_mode": {
    "name": "ipython",
    "version": 3
   },
   "file_extension": ".py",
   "mimetype": "text/x-python",
   "name": "python",
   "nbconvert_exporter": "python",
   "pygments_lexer": "ipython3",
   "version": "3.7.4"
  }
 },
 "nbformat": 4,
 "nbformat_minor": 2
}
